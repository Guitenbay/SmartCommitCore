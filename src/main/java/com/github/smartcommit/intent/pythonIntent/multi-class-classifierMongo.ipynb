{
 "cells": [
  {
   "cell_type": "code",
   "execution_count": 1,
   "metadata": {},
   "outputs": [],
   "source": [
    "# 导入模块\n",
    "\n",
    "import pandas as pd\n",
    "import re\n",
    "import numpy as np\n",
    "import matplotlib.pyplot as plt\n",
    "from nltk.corpus import stopwords\n",
    "from nltk.stem import PorterStemmer\n",
    "from sklearn.feature_extraction.text import TfidfVectorizer\n",
    "from sklearn.pipeline import Pipeline\n",
    "from sklearn.metrics import classification_report, confusion_matrix\n",
    "from sklearn.model_selection import train_test_split\n",
    "from sklearn.feature_selection import SelectKBest, chi2\n",
    "from sqlite3 import Error\n",
    "from sklearn.ensemble import RandomForestClassifier\n",
    "import joblib\n",
    "import sqlite3\n",
    "import pickle\n",
    "import nltk\n",
    "\n",
    "%matplotlib inline\n",
    "\n",
    "import pymongo\n",
    "import pandas as pd"
   ]
  },
  {
   "cell_type": "code",
   "execution_count": 2,
   "metadata": {},
   "outputs": [],
   "source": [
    "# 连接并获得CommitMsg数据库和Collection\n",
    "myclient = pymongo.MongoClient('localhost', 27017)\n",
    "mydb = myclient[\"commitsDB\"]\n",
    "mycol = mydb[\"commitTrainningSample\"]\n"
   ]
  },
  {
   "cell_type": "code",
   "execution_count": 3,
   "metadata": {},
   "outputs": [],
   "source": [
    "# 获取commitID，commitMsg和commitIntent\n",
    "data = mycol.find({},{ \"_id\": 1, \"commitID\": 1, \"commitMsg\": 1, \"commitIntent\": 1 })\n",
    "data = list(data)\n",
    "mydf = pd.DataFrame(data)\n",
    "\n",
    "print(mydf)"
   ]
  },
  {
   "cell_type": "code",
   "execution_count": 4,
   "metadata": {},
   "outputs": [
    {
     "name": "stderr",
     "output_type": "stream",
     "text": [
      "[nltk_data] Downloading package stopwords to\n",
      "[nltk_data]     /Users/Chuncen/nltk_data...\n",
      "[nltk_data]   Package stopwords is already up-to-date!\n"
     ]
    }
   ],
   "source": [
    "# 清洗commitMsg\n",
    "nltk.download('stopwords')\n",
    "stemmer = PorterStemmer()\n",
    "words = stopwords.words(\"english\")\n",
    "mydf['cleaned'] = mydf['commitMsg'].apply( \\\n",
    "    lambda x: \" \".join([stemmer.stem(i) \\\n",
    "    for i in re.sub(\"[^a-zA-Z]\", \" \", x).split() \\\n",
    "    if i not in words]).lower())"
   ]
  },
  {
   "cell_type": "code",
   "execution_count": 5,
   "metadata": {},
   "outputs": [
    {
     "data": {
      "text/plain": [
       "array([4, 1, 1, 3, 4, 3, 3, 4, 1, 4, 3, 1, 5, 4, 5, 4])"
      ]
     },
     "execution_count": 5,
     "metadata": {},
     "output_type": "execute_result"
    }
   ],
   "source": [
    "# 使用本地模型对cleaned commitMsg进行分类\n",
    "X = mydf['cleaned']\n",
    "model = joblib.load('rf.model')\n",
    "Y = model.predict(X)\n",
    "Y"
   ]
  },
  {
   "cell_type": "code",
   "execution_count": 7,
   "metadata": {},
   "outputs": [],
   "source": [
    "# 写入新collection里commitTrainningSampleIntent\n",
    "newcol = mydb[\"commitTrainningSampleIntent\"]\n",
    "for x in data:\n",
    "    Yvalue = Y[data.index(x)]\n",
    "    if Yvalue == 1:\n",
    "        tag = \"Bug fix\"\n",
    "    elif Yvalue == 2:\n",
    "        tag = \"No category\"\n",
    "    elif Yvalue == 3:\n",
    "        tag = \"Design improvement\"\n",
    "    elif Yvalue == 4:\n",
    "        tag = \"New feature\"\n",
    "    elif Yvalue == 5:\n",
    "        tag = \"Non-functional requirements\"\n",
    "    x[\"commitIntent\"] = tag\n",
    "    newcol.insert_one(x)"
   ]
  }
 ],
 "metadata": {
  "kernelspec": {
   "display_name": "Python 3",
   "language": "python",
   "name": "python3"
  },
  "language_info": {
   "codemirror_mode": {
    "name": "ipython",
    "version": 3
   },
   "file_extension": ".py",
   "mimetype": "text/x-python",
   "name": "python",
   "nbconvert_exporter": "python",
   "pygments_lexer": "ipython3",
   "version": "3.7.6"
  }
 },
 "nbformat": 4,
 "nbformat_minor": 2
}
